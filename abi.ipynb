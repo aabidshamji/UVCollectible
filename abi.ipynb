{
 "cells": [
  {
   "cell_type": "code",
   "execution_count": 1,
   "metadata": {},
   "outputs": [],
   "source": [
    "from web3 import Web3, EthereumTesterProvider\n",
    "from abi import ABIFormatter\n",
    "import json"
   ]
  },
  {
   "cell_type": "code",
   "execution_count": 2,
   "metadata": {},
   "outputs": [],
   "source": [
    "ABI_PATH = './abi.json'"
   ]
  },
  {
   "cell_type": "code",
   "execution_count": 3,
   "metadata": {},
   "outputs": [
    {
     "name": "stdout",
     "output_type": "stream",
     "text": [
      "Constructor: NONE\n",
      "OperatorNotAllowed (error):  operator (address) \n",
      "AdminUpdated (event):  admin (address), added (bool) \n",
      "Approval (event):  owner (address), approved (address), tokenId (uint256) \n",
      "ApprovalForAll (event):  owner (address), operator (address), approved (bool) \n",
      "Initialized (event):  version (uint8) \n",
      "Locked (event):  tokenId (uint256) \n",
      "OwnershipTransferred (event):  previousOwner (address), newOwner (address) \n",
      "Paused (event):  account (address) \n",
      "SubscriptionUpdate (event):  tokenId (uint256), expiration (uint64) \n",
      "Transfer (event):  from (address), to (address), tokenId (uint256) \n",
      "Unlocked (event):  tokenId (uint256) \n",
      "Unpaused (event):  account (address) \n",
      "VERSION (function, view): NONE => uint256\n",
      "addAdmin (function, nonpayable):  newAdmin (address) => NONE\n",
      "approve (function, nonpayable):  operator (address), tokenId (uint256) => NONE\n",
      "balanceOf (function, view):  owner (address) => uint256\n",
      "burn (function, nonpayable):  tokenId (uint256) => NONE\n",
      "burnLocked (function, nonpayable):  tokenId (uint256) => NONE\n",
      "cancelSubscription (function, nonpayable):  tokenId (uint256) => NONE\n",
      "collectionURI (function, view):  collectionId (uint256) => string\n",
      "contractURI (function, view): NONE => string\n",
      "expiresAt (function, view):  tokenId (uint256) => uint64\n",
      "getApproved (function, view):  tokenId (uint256) => address\n",
      "getTrustedForwarder (function, view): NONE =>  forwarder (address),\n",
      "initialize (function, nonpayable):  __name (string), __symbol (string), __contractURI (string), __admin (address) => NONE\n",
      "isAdmin (function, view):  admin (address) => bool\n",
      "isApprovedForAll (function, view):  _owner (address), _operator (address) =>  isOperator (bool),\n",
      "isLocked (function, view):  tokenId (uint256) => bool\n",
      "isRenewable (function, view):  tokenId (uint256) => bool\n",
      "isTrustedForwarder (function, view):  forwarder (address) => bool\n",
      "lastId (function, view): NONE => uint256\n",
      "lockToken (function, nonpayable):  tokenId (uint256) => NONE\n",
      "mintCollectionToManyUsers (function, nonpayable):  collectionId (uint256), to (address[]), locked (bool), expiration (uint64) => uint256uint256\n",
      "mintToken (function, nonpayable):  collectionId (uint256), to (address), locked (bool) => uint256\n",
      "mintTokenWithExpiration (function, nonpayable):  collectionId (uint256), to (address), locked (bool), expiration (uint64) => uint256\n",
      "mintUserToManyCollections (function, nonpayable):  collectionIds (uint256[]), to (address), locked (bool), expiration (uint64) => uint256uint256\n",
      "name (function, view): NONE => string\n",
      "owner (function, view): NONE => address\n",
      "ownerOf (function, view):  tokenId (uint256) => address\n",
      "pause (function, nonpayable): NONE => NONE\n",
      "paused (function, view): NONE => bool\n",
      "removeAdmin (function, nonpayable):  admin (address) => NONE\n",
      "removeCollectionRoyalty (function, nonpayable):  collectionId (uint256) => NONE\n",
      "removeDefaultRoyalty (function, nonpayable): NONE => NONE\n",
      "renewSubscription (function, nonpayable):  tokenId (uint256), duration (uint64) => NONE\n",
      "renounceOwnership (function, nonpayable): NONE => NONE\n",
      "royaltyInfo (function, view):  _tokenId (uint256), _salePrice (uint256) => addressuint256\n",
      "safeTransferFrom (function, nonpayable):  from (address), to (address), tokenId (uint256) => NONE\n",
      "safeTransferFrom (function, nonpayable):  from (address), to (address), tokenId (uint256), data (bytes) => NONE\n",
      "setApprovalForAll (function, nonpayable):  operator (address), approved (bool) => NONE\n",
      "setCollectionRoyalty (function, nonpayable):  collectionId (uint256), receiver (address), feeNumerator (uint96) => NONE\n",
      "setDefaultRoyalty (function, nonpayable):  receiver (address), feeNumerator (uint96) => NONE\n",
      "setExpiration (function, nonpayable):  tokenId (uint256), newExpiration (uint64) => NONE\n",
      "setLastId (function, nonpayable):  newLastId (uint256) => NONE\n",
      "setTrustedForwarder (function, nonpayable):  forwarder (address) => NONE\n",
      "supportsInterface (function, view):  interfaceId (bytes4) => bool\n",
      "symbol (function, view): NONE => string\n",
      "tokenCollection (function, view):  tokenId (uint256) => uint256\n",
      "tokenURI (function, view):  tokenId (uint256) => string\n",
      "transferFrom (function, nonpayable):  from (address), to (address), tokenId (uint256) => NONE\n",
      "transferLockedToken (function, nonpayable):  tokenId (uint256), recipient (address), remainLocked (bool) => NONE\n",
      "transferOwnership (function, nonpayable):  newOwner (address) => NONE\n",
      "unlockToken (function, nonpayable):  tokenId (uint256) => NONE\n",
      "unpause (function, nonpayable): NONE => NONE\n",
      "updateContractURI (function, nonpayable):  __contractURI (string) => NONE\n",
      "updateName (function, nonpayable):  newName (string) => NONE\n",
      "updateSymbol (function, nonpayable):  newSymbol (string) => NONE\n",
      "updateTokenCollection (function, nonpayable):  tokenId (uint256), newCollectionId (uint256) => NONE\n"
     ]
    }
   ],
   "source": [
    "formatter = ABIFormatter(ABI_PATH)\n",
    "formatter.print_functions()"
   ]
  },
  {
   "cell_type": "code",
   "execution_count": null,
   "metadata": {},
   "outputs": [],
   "source": []
  }
 ],
 "metadata": {
  "kernelspec": {
   "display_name": "Python 3",
   "language": "python",
   "name": "python3"
  },
  "language_info": {
   "codemirror_mode": {
    "name": "ipython",
    "version": 3
   },
   "file_extension": ".py",
   "mimetype": "text/x-python",
   "name": "python",
   "nbconvert_exporter": "python",
   "pygments_lexer": "ipython3",
   "version": "3.9.6"
  },
  "orig_nbformat": 4,
  "vscode": {
   "interpreter": {
    "hash": "31f2aee4e71d21fbe5cf8b01ff0e069b9275f58929596ceb00d14d90e3e16cd6"
   }
  }
 },
 "nbformat": 4,
 "nbformat_minor": 2
}
