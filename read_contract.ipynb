{
 "cells": [
  {
   "cell_type": "code",
   "execution_count": 5,
   "metadata": {},
   "outputs": [],
   "source": [
    "from web3 import Web3, EthereumTesterProvider\n",
    "from abi import ABIFormatter\n",
    "import json"
   ]
  },
  {
   "cell_type": "code",
   "execution_count": 6,
   "metadata": {},
   "outputs": [],
   "source": [
    "ABI_PATH = \"./ERC721-Collectable-Upgradeable/artifacts/contracts/OctiTokenCollectable.sol/OctiTokenCollectable.json\"\n"
   ]
  },
  {
   "cell_type": "code",
   "execution_count": 7,
   "metadata": {},
   "outputs": [],
   "source": [
    "formatter = ABIFormatter(ABI_PATH)\n"
   ]
  },
  {
   "cell_type": "code",
   "execution_count": 8,
   "metadata": {},
   "outputs": [
    {
     "name": "stdout",
     "output_type": "stream",
     "text": [
      "Constructor: NONE\n",
      "AdminChanged (event):  previousAdmin (address), newAdmin (address) \n",
      "Approval (event):  owner (address), approved (address), tokenId (uint256) \n",
      "ApprovalForAll (event):  owner (address), operator (address), approved (bool) \n",
      "BeaconUpgraded (event):  beacon (address) \n",
      "Initialized (event):  version (uint8) \n",
      "Minted (event):  eventId (uint256), tokenId (uint256), owner (address) \n",
      "OwnershipTransferred (event):  previousOwner (address), newOwner (address) \n",
      "Paused (event):  account (address) \n",
      "Transfer (event):  from (address), to (address), tokenId (uint256) \n",
      "Unpaused (event):  account (address) \n",
      "Upgraded (event):  implementation (address) \n",
      "approve (function, nonpayable):  to (address), tokenId (uint256) => NONE\n",
      "balanceOf (function, view):  owner (address) => uint256\n",
      "burn (function, nonpayable):  tokenId (uint256) => NONE\n",
      "contractURI (function, view): NONE => string\n",
      "eventURI (function, view):  eventId (uint256) => string\n",
      "getApproved (function, view):  tokenId (uint256) => address\n",
      "initialize (function, nonpayable):  __royaltyAddress (address), __contractURI (string) => NONE\n",
      "isApprovedForAll (function, view):  owner (address), operator (address) => bool\n",
      "lastId (function, view): NONE => uint256\n",
      "mintEventToManyUsers (function, nonpayable):  eventId (uint256), to (address[]) => bool\n",
      "mintToken (function, nonpayable):  eventId (uint256), to (address) => bool\n",
      "mintUserToManyEvents (function, nonpayable):  eventIds (uint256[]), to (address) => bool\n",
      "name (function, view): NONE => string\n",
      "owner (function, view): NONE => address\n",
      "ownerOf (function, view):  tokenId (uint256) => address\n",
      "pause (function, nonpayable): NONE => NONE\n",
      "paused (function, view): NONE => bool\n",
      "proxiableUUID (function, view): NONE => bytes32\n",
      "removeDefaultRoyalty (function, nonpayable): NONE => NONE\n",
      "removeEventRoyalty (function, nonpayable):  tokenId (uint256) => NONE\n",
      "renounceOwnership (function, nonpayable): NONE => NONE\n",
      "royaltyInfo (function, view):  _tokenId (uint256), _salePrice (uint256) => addressuint256\n",
      "safeTransferFrom (function, nonpayable):  from (address), to (address), tokenId (uint256) => NONE\n",
      "safeTransferFrom (function, nonpayable):  from (address), to (address), tokenId (uint256), data (bytes) => NONE\n",
      "setApprovalForAll (function, nonpayable):  operator (address), approved (bool) => NONE\n",
      "setLastId (function, nonpayable):  newLastId (uint256) => NONE\n",
      "supportsInterface (function, view):  interfaceId (bytes4) => bool\n",
      "symbol (function, view): NONE => string\n",
      "tokenByIndex (function, view):  index (uint256) => uint256\n",
      "tokenDetailsOfOwnerByIndex (function, view):  owner (address), index (uint256) =>  tokenId (uint256), eventId (uint256),\n",
      "tokenEvent (function, view):  tokenId (uint256) => uint256\n",
      "tokenOfOwnerByIndex (function, view):  owner (address), index (uint256) => uint256\n",
      "tokenURI (function, view):  tokenId (uint256) => string\n",
      "totalSupply (function, view): NONE => uint256\n",
      "transferFrom (function, nonpayable):  from (address), to (address), tokenId (uint256) => NONE\n",
      "transferOwnership (function, nonpayable):  newOwner (address) => NONE\n",
      "unpause (function, nonpayable): NONE => NONE\n",
      "updateContractURI (function, nonpayable):  __contractURI (string) => NONE\n",
      "updateDefaultRoyalty (function, nonpayable):  receiver (address), feeNumerator (uint96) => NONE\n",
      "updateEventRoyalty (function, nonpayable):  eventId (uint256), receiver (address), feeNumerator (uint96) => NONE\n",
      "upgradeTo (function, nonpayable):  newImplementation (address) => NONE\n",
      "upgradeToAndCall (function, payable):  newImplementation (address), data (bytes) => NONE\n"
     ]
    }
   ],
   "source": [
    "formatter.print_functions()"
   ]
  },
  {
   "cell_type": "code",
   "execution_count": null,
   "metadata": {},
   "outputs": [],
   "source": []
  },
  {
   "cell_type": "code",
   "execution_count": null,
   "metadata": {},
   "outputs": [],
   "source": []
  }
 ],
 "metadata": {
  "kernelspec": {
   "display_name": "Python 3.8.9 64-bit",
   "language": "python",
   "name": "python3"
  },
  "language_info": {
   "codemirror_mode": {
    "name": "ipython",
    "version": 3
   },
   "file_extension": ".py",
   "mimetype": "text/x-python",
   "name": "python",
   "nbconvert_exporter": "python",
   "pygments_lexer": "ipython3",
   "version": "3.8.9"
  },
  "orig_nbformat": 4,
  "vscode": {
   "interpreter": {
    "hash": "31f2aee4e71d21fbe5cf8b01ff0e069b9275f58929596ceb00d14d90e3e16cd6"
   }
  }
 },
 "nbformat": 4,
 "nbformat_minor": 2
}
