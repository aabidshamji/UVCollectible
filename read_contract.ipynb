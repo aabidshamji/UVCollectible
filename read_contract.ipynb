{
 "cells": [
  {
   "cell_type": "code",
   "execution_count": 1,
   "metadata": {},
   "outputs": [],
   "source": [
    "from web3 import Web3, EthereumTesterProvider\n",
    "from abi import ABIFormatter\n",
    "import json"
   ]
  },
  {
   "cell_type": "code",
   "execution_count": 2,
   "metadata": {},
   "outputs": [],
   "source": [
    "ABI_PATH = 'ERC721-with-EIP2981/artifacts/contracts/OctiToken.sol/OctiToken.json'\n",
    "f = open(ABI_PATH)\n",
    "token = json.load(f)\n",
    "abi = token['abi']"
   ]
  },
  {
   "cell_type": "code",
   "execution_count": 3,
   "metadata": {},
   "outputs": [
    {
     "name": "stdout",
     "output_type": "stream",
     "text": [
      "Constructor:  newOwner (address), royaltyAddress (address), _newContractURI (string)\n",
      "Approval (event):  owner (address), approved (address), tokenId (uint256) \n",
      "ApprovalForAll (event):  owner (address), operator (address), approved (bool) \n",
      "OwnershipTransferred (event):  previousOwner (address), newOwner (address) \n",
      "Paused (event):  account (address) \n",
      "Transfer (event):  from (address), to (address), tokenId (uint256) \n",
      "Unpaused (event):  account (address) \n",
      "approve (function, nonpayable):  to (address), tokenId (uint256) => NONE\n",
      "balanceOf (function, view):  owner (address) => uint256\n",
      "burn (function, nonpayable):  tokenId (uint256) => NONE\n",
      "getApproved (function, view):  tokenId (uint256) => address\n",
      "isApprovedForAll (function, view):  _owner (address), _operator (address) =>  isOperator (bool),\n",
      "mintNFTWithRoyalty (function, nonpayable):  to (address), tokenId (uint256), receiver (address), feeNumerator (uint96) => NONE\n",
      "name (function, view): NONE => string\n",
      "owner (function, view): NONE => address\n",
      "ownerOf (function, view):  tokenId (uint256) => address\n",
      "pause (function, nonpayable): NONE => NONE\n",
      "paused (function, view): NONE => bool\n",
      "removeDefaultRoyalty (function, nonpayable): NONE => NONE\n",
      "removeTokenRoyalty (function, nonpayable):  tokenId (uint256) => NONE\n",
      "renounceOwnership (function, nonpayable): NONE => NONE\n",
      "royaltyInfo (function, view):  _tokenId (uint256), _salePrice (uint256) => addressuint256\n",
      "safeMint (function, nonpayable):  to (address), tokenId (uint256) => NONE\n",
      "safeTransferFrom (function, nonpayable):  from (address), to (address), tokenId (uint256) => NONE\n",
      "safeTransferFrom (function, nonpayable):  from (address), to (address), tokenId (uint256), data (bytes) => NONE\n",
      "setApprovalForAll (function, nonpayable):  operator (address), approved (bool) => NONE\n",
      "supportsInterface (function, view):  interfaceId (bytes4) => bool\n",
      "symbol (function, view): NONE => string\n",
      "tokenByIndex (function, view):  index (uint256) => uint256\n",
      "tokenOfOwnerByIndex (function, view):  owner (address), index (uint256) => uint256\n",
      "tokenURI (function, view):  tokenId (uint256) => string\n",
      "totalSupply (function, view): NONE => uint256\n",
      "transferFrom (function, nonpayable):  from (address), to (address), tokenId (uint256) => NONE\n",
      "transferOwnership (function, nonpayable):  newOwner (address) => NONE\n",
      "unpause (function, nonpayable): NONE => NONE\n",
      "updateBaseURI (function, nonpayable):  _newContractURI (string) => NONE\n",
      "updateDefaultRoyalty (function, nonpayable):  receiver (address), feeNumerator (uint96) => NONE\n",
      "updateTokenRoyalty (function, nonpayable):  tokenId (uint256), receiver (address), feeNumerator (uint96) => NONE\n"
     ]
    }
   ],
   "source": [
    "formatter = ABIFormatter(ABI_PATH)\n",
    "formatter.print_functions()"
   ]
  },
  {
   "cell_type": "code",
   "execution_count": null,
   "metadata": {},
   "outputs": [],
   "source": [
    "w3 = Web3(Web3.HTTPProvider(\"https://polygon-mumbai.g.alchemy.com/v2/1lSStfXOLEyEyFq2jfdgJByjUE4nUD0K\"))"
   ]
  },
  {
   "cell_type": "code",
   "execution_count": null,
   "metadata": {},
   "outputs": [],
   "source": [
    "address = \"0x58d754e77ef77A30C2611655d5d6CD6e669fFCf7\"\n",
    "contract = w3.eth.contract(address=address, abi=abi)"
   ]
  },
  {
   "cell_type": "code",
   "execution_count": null,
   "metadata": {},
   "outputs": [],
   "source": [
    "contract.functions.owner().call()"
   ]
  },
  {
   "cell_type": "code",
   "execution_count": null,
   "metadata": {},
   "outputs": [],
   "source": []
  },
  {
   "cell_type": "code",
   "execution_count": null,
   "metadata": {},
   "outputs": [],
   "source": []
  }
 ],
 "metadata": {
  "kernelspec": {
   "display_name": "Python 3.8.9 64-bit",
   "language": "python",
   "name": "python3"
  },
  "language_info": {
   "codemirror_mode": {
    "name": "ipython",
    "version": 3
   },
   "file_extension": ".py",
   "mimetype": "text/x-python",
   "name": "python",
   "nbconvert_exporter": "python",
   "pygments_lexer": "ipython3",
   "version": "3.8.9"
  },
  "orig_nbformat": 4,
  "vscode": {
   "interpreter": {
    "hash": "31f2aee4e71d21fbe5cf8b01ff0e069b9275f58929596ceb00d14d90e3e16cd6"
   }
  }
 },
 "nbformat": 4,
 "nbformat_minor": 2
}
