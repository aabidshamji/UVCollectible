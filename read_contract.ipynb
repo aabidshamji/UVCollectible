{
 "cells": [
  {
   "cell_type": "code",
   "execution_count": 1,
   "metadata": {},
   "outputs": [],
   "source": [
    "from web3 import Web3, EthereumTesterProvider\n",
    "from abi import ABIFormatter\n",
    "import json"
   ]
  },
  {
   "cell_type": "code",
   "execution_count": 2,
   "metadata": {},
   "outputs": [],
   "source": [
    "ABI_PATH = 'Seaport/seaport.json'"
   ]
  },
  {
   "cell_type": "code",
   "execution_count": 3,
   "metadata": {},
   "outputs": [],
   "source": [
    "formatter = ABIFormatter(ABI_PATH)\n"
   ]
  },
  {
   "cell_type": "code",
   "execution_count": 4,
   "metadata": {},
   "outputs": [
    {
     "name": "stdout",
     "output_type": "stream",
     "text": [
      "Constructor:  conduitController (address)\n",
      "BadContractSignature (error): NONE \n",
      "BadFraction (error): NONE \n",
      "BadReturnValueFromERC20OnTransfer (error):  token (address), from (address), to (address), amount (uint256) \n",
      "BadSignatureV (error):  v (uint8) \n",
      "ConsiderationCriteriaResolverOutOfRange (error): NONE \n",
      "ConsiderationNotMet (error):  orderIndex (uint256), considerationIndex (uint256), shortfallAmount (uint256) \n",
      "CriteriaNotEnabledForItem (error): NONE \n",
      "ERC1155BatchTransferGenericFailure (error):  token (address), from (address), to (address), identifiers (uint256[]), amounts (uint256[]) \n",
      "EtherTransferGenericFailure (error):  account (address), amount (uint256) \n",
      "InexactFraction (error): NONE \n",
      "InsufficientEtherSupplied (error): NONE \n",
      "Invalid1155BatchTransferEncoding (error): NONE \n",
      "InvalidBasicOrderParameterEncoding (error): NONE \n",
      "InvalidCallToConduit (error):  conduit (address) \n",
      "InvalidCanceller (error): NONE \n",
      "InvalidConduit (error):  conduitKey (bytes32), conduit (address) \n",
      "InvalidERC721TransferAmount (error): NONE \n",
      "InvalidFulfillmentComponentData (error): NONE \n",
      "InvalidMsgValue (error):  value (uint256) \n",
      "InvalidNativeOfferItem (error): NONE \n",
      "InvalidProof (error): NONE \n",
      "InvalidRestrictedOrder (error):  orderHash (bytes32) \n",
      "InvalidSignature (error): NONE \n",
      "InvalidSigner (error): NONE \n",
      "InvalidTime (error): NONE \n",
      "MismatchedFulfillmentOfferAndConsiderationComponents (error): NONE \n",
      "MissingFulfillmentComponentOnAggregation (error):  side (uint8) \n",
      "MissingItemAmount (error): NONE \n",
      "MissingOriginalConsiderationItems (error): NONE \n",
      "NoContract (error):  account (address) \n",
      "NoReentrantCalls (error): NONE \n",
      "NoSpecifiedOrdersAvailable (error): NONE \n",
      "OfferAndConsiderationRequiredOnFulfillment (error): NONE \n",
      "OfferCriteriaResolverOutOfRange (error): NONE \n",
      "OrderAlreadyFilled (error):  orderHash (bytes32) \n",
      "OrderCriteriaResolverOutOfRange (error): NONE \n",
      "OrderIsCancelled (error):  orderHash (bytes32) \n",
      "OrderPartiallyFilled (error):  orderHash (bytes32) \n",
      "PartialFillsNotEnabledForOrder (error): NONE \n",
      "TokenTransferGenericFailure (error):  token (address), from (address), to (address), identifier (uint256), amount (uint256) \n",
      "UnresolvedConsiderationCriteria (error): NONE \n",
      "UnresolvedOfferCriteria (error): NONE \n",
      "UnusedItemParameters (error): NONE \n",
      "CounterIncremented (event):  newCounter (uint256), offerer (address) \n",
      "OrderCancelled (event):  orderHash (bytes32), offerer (address), zone (address) \n",
      "OrderFulfilled (event):  orderHash (bytes32), offerer (address), zone (address), recipient (address), offer (tuple[]), consideration (tuple[]) \n",
      "OrderValidated (event):  orderHash (bytes32), offerer (address), zone (address) \n",
      "cancel (function, nonpayable):  orders (tuple[]) =>  cancelled (bool),\n",
      "fulfillAdvancedOrder (function, payable):  advancedOrder (tuple), criteriaResolvers (tuple[]), fulfillerConduitKey (bytes32), recipient (address) =>  fulfilled (bool),\n",
      "fulfillAvailableAdvancedOrders (function, payable):  advancedOrders (tuple[]), criteriaResolvers (tuple[]), offerFulfillments (tuple[][]), considerationFulfillments (tuple[][]), fulfillerConduitKey (bytes32), recipient (address), maximumFulfilled (uint256) =>  availableOrders (bool[]), executions (tuple[]),\n",
      "fulfillAvailableOrders (function, payable):  orders (tuple[]), offerFulfillments (tuple[][]), considerationFulfillments (tuple[][]), fulfillerConduitKey (bytes32), maximumFulfilled (uint256) =>  availableOrders (bool[]), executions (tuple[]),\n",
      "fulfillBasicOrder (function, payable):  parameters (tuple) =>  fulfilled (bool),\n",
      "fulfillOrder (function, payable):  order (tuple), fulfillerConduitKey (bytes32) =>  fulfilled (bool),\n",
      "getCounter (function, view):  offerer (address) =>  counter (uint256),\n",
      "getOrderHash (function, view):  order (tuple) =>  orderHash (bytes32),\n",
      "getOrderStatus (function, view):  orderHash (bytes32) =>  isValidated (bool), isCancelled (bool), totalFilled (uint256), totalSize (uint256),\n",
      "incrementCounter (function, nonpayable): NONE =>  newCounter (uint256),\n",
      "information (function, view): NONE =>  version (string), domainSeparator (bytes32), conduitController (address),\n",
      "matchAdvancedOrders (function, payable):  advancedOrders (tuple[]), criteriaResolvers (tuple[]), fulfillments (tuple[]) =>  executions (tuple[]),\n",
      "matchOrders (function, payable):  orders (tuple[]), fulfillments (tuple[]) =>  executions (tuple[]),\n",
      "name (function, pure): NONE =>  contractName (string),\n",
      "validate (function, nonpayable):  orders (tuple[]) =>  validated (bool),\n"
     ]
    }
   ],
   "source": [
    "formatter.print_functions()"
   ]
  },
  {
   "cell_type": "code",
   "execution_count": null,
   "metadata": {},
   "outputs": [],
   "source": []
  }
 ],
 "metadata": {
  "kernelspec": {
   "display_name": "Python 3.8.9 64-bit",
   "language": "python",
   "name": "python3"
  },
  "language_info": {
   "codemirror_mode": {
    "name": "ipython",
    "version": 3
   },
   "file_extension": ".py",
   "mimetype": "text/x-python",
   "name": "python",
   "nbconvert_exporter": "python",
   "pygments_lexer": "ipython3",
   "version": "3.8.9"
  },
  "orig_nbformat": 4,
  "vscode": {
   "interpreter": {
    "hash": "31f2aee4e71d21fbe5cf8b01ff0e069b9275f58929596ceb00d14d90e3e16cd6"
   }
  }
 },
 "nbformat": 4,
 "nbformat_minor": 2
}
