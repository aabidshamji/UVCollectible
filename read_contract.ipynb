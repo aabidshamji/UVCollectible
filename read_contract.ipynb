{
 "cells": [
  {
   "cell_type": "code",
   "execution_count": 1,
   "metadata": {},
   "outputs": [],
   "source": [
    "from web3 import Web3, EthereumTesterProvider\n",
    "from abi import ABIFormatter\n",
    "import json"
   ]
  },
  {
   "cell_type": "code",
   "execution_count": 2,
   "metadata": {},
   "outputs": [],
   "source": [
    "ABI_PATH = '/Users/aabid-octi/Documents/contracts/ERC1155-with-EIP298-Upgradeable/artifacts/contracts/OctiToken1155Upgradeable.sol/OctiToken1155Upgradeable.json'"
   ]
  },
  {
   "cell_type": "code",
   "execution_count": 3,
   "metadata": {},
   "outputs": [],
   "source": [
    "formatter = ABIFormatter(ABI_PATH)\n"
   ]
  },
  {
   "cell_type": "code",
   "execution_count": 4,
   "metadata": {},
   "outputs": [
    {
     "name": "stdout",
     "output_type": "stream",
     "text": [
      "Constructor: NONE\n",
      "AdminChanged (event):  previousAdmin (address), newAdmin (address) \n",
      "ApprovalForAll (event):  account (address), operator (address), approved (bool) \n",
      "BeaconUpgraded (event):  beacon (address) \n",
      "Initialized (event):  version (uint8) \n",
      "OwnershipTransferred (event):  previousOwner (address), newOwner (address) \n",
      "Paused (event):  account (address) \n",
      "TransferBatch (event):  operator (address), from (address), to (address), ids (uint256[]), values (uint256[]) \n",
      "TransferSingle (event):  operator (address), from (address), to (address), id (uint256), value (uint256) \n",
      "URI (event):  value (string), id (uint256) \n",
      "Unpaused (event):  account (address) \n",
      "Upgraded (event):  implementation (address) \n",
      "balanceOf (function, view):  account (address), id (uint256) => uint256\n",
      "balanceOfBatch (function, view):  accounts (address[]), ids (uint256[]) => uint256[]\n",
      "burn (function, nonpayable):  account (address), id (uint256), value (uint256) => NONE\n",
      "burnBatch (function, nonpayable):  account (address), ids (uint256[]), values (uint256[]) => NONE\n",
      "exists (function, view):  id (uint256) => bool\n",
      "initialize (function, nonpayable): NONE => NONE\n",
      "isApprovedForAll (function, view):  account (address), operator (address) => bool\n",
      "mint (function, nonpayable):  account (address), id (uint256), amount (uint256), data (bytes) => NONE\n",
      "mintBatch (function, nonpayable):  to (address), ids (uint256[]), amounts (uint256[]), data (bytes) => NONE\n",
      "owner (function, view): NONE => address\n",
      "pause (function, nonpayable): NONE => NONE\n",
      "paused (function, view): NONE => bool\n",
      "proxiableUUID (function, view): NONE => bytes32\n",
      "removeDefaultRoyalty (function, nonpayable): NONE => NONE\n",
      "removeTokenRoyalty (function, nonpayable):  tokenId (uint256) => NONE\n",
      "renounceOwnership (function, nonpayable): NONE => NONE\n",
      "royaltyInfo (function, view):  _tokenId (uint256), _salePrice (uint256) => addressuint256\n",
      "safeBatchTransferFrom (function, nonpayable):  from (address), to (address), ids (uint256[]), amounts (uint256[]), data (bytes) => NONE\n",
      "safeTransferFrom (function, nonpayable):  from (address), to (address), id (uint256), amount (uint256), data (bytes) => NONE\n",
      "setApprovalForAll (function, nonpayable):  operator (address), approved (bool) => NONE\n",
      "setURI (function, nonpayable):  newuri (string) => NONE\n",
      "supportsInterface (function, view):  interfaceId (bytes4) => bool\n",
      "totalSupply (function, view):  id (uint256) => uint256\n",
      "transferOwnership (function, nonpayable):  newOwner (address) => NONE\n",
      "unpause (function, nonpayable): NONE => NONE\n",
      "updateDefaultRoyalty (function, nonpayable):  receiver (address), feeNumerator (uint96) => NONE\n",
      "updateTokenRoyalty (function, nonpayable):  tokenId (uint256), receiver (address), feeNumerator (uint96) => NONE\n",
      "upgradeTo (function, nonpayable):  newImplementation (address) => NONE\n",
      "upgradeToAndCall (function, payable):  newImplementation (address), data (bytes) => NONE\n",
      "uri (function, view):   (uint256) => string\n"
     ]
    }
   ],
   "source": [
    "formatter.print_functions()"
   ]
  },
  {
   "cell_type": "code",
   "execution_count": null,
   "metadata": {},
   "outputs": [],
   "source": []
  }
 ],
 "metadata": {
  "kernelspec": {
   "display_name": "Python 3.8.9 64-bit",
   "language": "python",
   "name": "python3"
  },
  "language_info": {
   "codemirror_mode": {
    "name": "ipython",
    "version": 3
   },
   "file_extension": ".py",
   "mimetype": "text/x-python",
   "name": "python",
   "nbconvert_exporter": "python",
   "pygments_lexer": "ipython3",
   "version": "3.8.9"
  },
  "orig_nbformat": 4,
  "vscode": {
   "interpreter": {
    "hash": "31f2aee4e71d21fbe5cf8b01ff0e069b9275f58929596ceb00d14d90e3e16cd6"
   }
  }
 },
 "nbformat": 4,
 "nbformat_minor": 2
}
